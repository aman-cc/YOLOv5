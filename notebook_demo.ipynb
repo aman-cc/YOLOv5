{
 "cells": [
  {
   "cell_type": "code",
   "execution_count": 1,
   "metadata": {},
   "outputs": [
    {
     "name": "stderr",
     "output_type": "stream",
     "text": [
      "/home/aman/YOLOv5/.venv/lib/python3.10/site-packages/tqdm/auto.py:22: TqdmWarning: IProgress not found. Please update jupyter and ipywidgets. See https://ipywidgets.readthedocs.io/en/stable/user_install.html\n",
      "  from .autonotebook import tqdm as notebook_tqdm\n"
     ]
    }
   ],
   "source": [
    "import os\n",
    "import torch\n",
    "import yaml\n",
    "\n",
    "import yolo\n",
    "from yolov5 import YOLOv5"
   ]
  },
  {
   "cell_type": "code",
   "execution_count": 2,
   "metadata": {},
   "outputs": [
    {
     "name": "stdout",
     "output_type": "stream",
     "text": [
      "loading annotations into memory...\n",
      "Done (t=0.00s)\n",
      "creating index...\n",
      "index created!\n",
      "Checking the dataset...\n",
      "checked id file: ./pascal_mini_ds/images/checked_train2017.txt\n",
      "69 samples are OK; 0.0 seconds\n",
      "loading annotations into memory...\n",
      "Done (t=0.00s)\n",
      "creating index...\n",
      "index created!\n",
      "Checking the dataset...\n",
      "checked id file: ./pascal_mini_ds/images/checked_val2017.txt\n",
      "72 samples are OK; 0.0 seconds\n",
      "Device: cpu\n",
      "Optimizer param groups: 70 conv_weights, 62 biases, 59 others\n",
      "iter: 379.1, total: 361.7, model: 360.0\n",
      "all gather: 0.0s\n",
      "Loading and preparing results...\n",
      "DONE (t=0.00s)\n",
      "creating index...\n",
      "index created!\n",
      "Running per image evaluation...\n",
      "Evaluate annotation type *bbox*\n",
      "DONE (t=0.03s).\n",
      "Accumulating evaluation results...\n",
      "DONE (t=0.06s).\n",
      "accumulate: 0.1s\n",
      "{'bbox AP': 0.0}\n"
     ]
    }
   ],
   "source": [
    "\n",
    "with open(\"./config.yaml\", \"r\") as stream:\n",
    "    args = yaml.safe_load(stream)\n",
    "\n",
    "yolo_obj = YOLOv5(args)\n",
    "\n",
    "if not os.path.isdir(args[\"DATA_DIR\"]):\n",
    "    raise Exception(\n",
    "        \"COCO data not download. Please download COCO using './download_coco.sh'\"\n",
    "    )\n",
    "splits = (\"train2017\", \"val2017\")\n",
    "file_roots = [os.path.join(yolo_obj.data_dir, \"images\", x) for x in splits]\n",
    "ann_files = [\n",
    "    os.path.join(yolo_obj.data_dir, \"annotations/instances_{}.json\".format(x))\n",
    "    for x in splits\n",
    "]\n",
    "if not os.path.isdir(args[\"EXPT_DIR\"]):\n",
    "    os.makedirs(args[\"EXPT_DIR\"], exist_ok=True)\n",
    "\n",
    "transforms = yolo.RandomAffine((0, 0), (0.1, 0.1), (0.9, 1.1), (0, 0, 0, 0))\n",
    "dataset_train = yolo.datasets(\n",
    "    yolo_obj.dataset, file_roots[0], ann_files[0], train=True\n",
    ")\n",
    "dataset_test = yolo.datasets(\n",
    "    yolo_obj.dataset, file_roots[1], ann_files[1], train=True\n",
    ")  # set train=True for eval\n",
    "if len(dataset_train) < yolo_obj.batch_size:\n",
    "    raise Exception(\n",
    "        f\"Very low number of samples. Available samples: {len(dataset_train)} | Batch size: {yolo_obj.batch_size}\"\n",
    "    )\n",
    "\n",
    "sampler_train = torch.utils.data.RandomSampler(dataset_train)\n",
    "sampler_test = torch.utils.data.SequentialSampler(dataset_test)\n",
    "\n",
    "batch_sampler_train = yolo.GroupedBatchSampler(\n",
    "    sampler_train, dataset_train.aspect_ratios, yolo_obj.batch_size, drop_last=True\n",
    ")\n",
    "batch_sampler_test = yolo.GroupedBatchSampler(\n",
    "    sampler_test, dataset_test.aspect_ratios, yolo_obj.batch_size\n",
    ")\n",
    "\n",
    "num_workers = min(\n",
    "    os.cpu_count() // 2, 8, yolo_obj.batch_size if yolo_obj.batch_size > 1 else 0\n",
    ")\n",
    "device = torch.device(\n",
    "    \"cuda\" if torch.cuda.is_available() and yolo_obj.use_cuda else \"cpu\"\n",
    ")\n",
    "cuda = device.type == \"cuda\"\n",
    "data_loader_train = torch.utils.data.DataLoader(\n",
    "    dataset_train,\n",
    "    batch_sampler=batch_sampler_train,\n",
    "    num_workers=num_workers,\n",
    "    collate_fn=yolo.collate_wrapper,\n",
    "    pin_memory=cuda,\n",
    ")\n",
    "\n",
    "data_loader_test = torch.utils.data.DataLoader(\n",
    "    dataset_test,\n",
    "    batch_sampler=batch_sampler_test,\n",
    "    num_workers=num_workers,\n",
    "    collate_fn=yolo.collate_wrapper,\n",
    "    pin_memory=cuda,\n",
    ")\n",
    "num_classes = len(dataset_train.classes)\n",
    "warmup_iters = max(1000, 3 * len(dataset_train))\n",
    "save_path = os.path.join(args[\"EXPT_DIR\"], \"ckpt\")\n",
    "yolo_obj.load_model(num_classes, warmup_iters, device)\n",
    "yolo_obj.load_weights(\"yolov5s_official_2cf45318.pth\", device, True)\n",
    "# yolo_obj.train(data_loader_train, data_loader_test, save_path, device)\n",
    "yolo_obj.evaluate(data_loader_test, device)\n",
    "# yolo_obj.load_weights('ckpt', pretrained=False)\n",
    "results = yolo_obj.infer(data_loader_test, device)"
   ]
  }
 ],
 "metadata": {
  "kernelspec": {
   "display_name": "Python 3.10.8 ('.venv': venv)",
   "language": "python",
   "name": "python3"
  },
  "language_info": {
   "codemirror_mode": {
    "name": "ipython",
    "version": 3
   },
   "file_extension": ".py",
   "mimetype": "text/x-python",
   "name": "python",
   "nbconvert_exporter": "python",
   "pygments_lexer": "ipython3",
   "version": "3.10.8"
  },
  "orig_nbformat": 4,
  "vscode": {
   "interpreter": {
    "hash": "6e301888e501b73fffde36270a2af461f430310e2e17bd69ff1a428859722c3e"
   }
  }
 },
 "nbformat": 4,
 "nbformat_minor": 2
}
