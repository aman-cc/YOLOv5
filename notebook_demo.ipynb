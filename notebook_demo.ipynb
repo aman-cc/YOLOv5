{
 "cells": [
  {
   "cell_type": "markdown",
   "metadata": {},
   "source": [
    "# YOLOv5 Notebook Demo"
   ]
  },
  {
   "cell_type": "markdown",
   "metadata": {},
   "source": [
    "## Clone repo"
   ]
  },
  {
   "cell_type": "code",
   "execution_count": null,
   "metadata": {},
   "outputs": [],
   "source": [
    "!git clone https://github.com/aman-cc/YOLOv5.git -b pascal_data --depth 1\n",
    "%cd YOLOv5"
   ]
  },
  {
   "cell_type": "markdown",
   "metadata": {},
   "source": [
    "## Install needed requirements\n",
    "Uncomment below if not in colab"
   ]
  },
  {
   "cell_type": "code",
   "execution_count": null,
   "metadata": {},
   "outputs": [],
   "source": [
    "# !pip install -r requirements.txt\n",
    "# !pip install gdown matplotlib"
   ]
  },
  {
   "cell_type": "code",
   "execution_count": null,
   "metadata": {},
   "outputs": [],
   "source": [
    "import os\n",
    "import torch\n",
    "import yaml\n",
    "\n",
    "import matplotlib as plt\n",
    "\n",
    "import yolo\n",
    "from yolov5 import YOLOv5"
   ]
  },
  {
   "cell_type": "markdown",
   "metadata": {},
   "source": [
    "## Download PASCAL VOC Dataset for training"
   ]
  },
  {
   "cell_type": "code",
   "execution_count": null,
   "metadata": {},
   "outputs": [],
   "source": [
    "!gdown 'https://drive.google.com/uc?id=10NFCj8VQ4h8TFZGb5IEmyk1ePCLAUU-e'\n",
    "!tar xf pascal_data.tar.gz"
   ]
  },
  {
   "cell_type": "markdown",
   "metadata": {},
   "source": [
    "## Load Dataloader"
   ]
  },
  {
   "cell_type": "code",
   "execution_count": null,
   "metadata": {},
   "outputs": [],
   "source": [
    "with open(\"./config.yaml\", \"r\") as stream:\n",
    "    args = yaml.safe_load(stream)\n",
    "\n",
    "yolo_obj = YOLOv5(args)\n",
    "\n",
    "if not os.path.isdir(args[\"DATA_DIR\"]):\n",
    "    raise Exception(\n",
    "        \"COCO data not download. Please download COCO using './download_coco.sh'\"\n",
    "    )\n",
    "splits = (\"train2017\", \"val2017\")\n",
    "file_roots = [os.path.join(yolo_obj.data_dir, \"images\", x) for x in splits]\n",
    "ann_files = [\n",
    "    os.path.join(yolo_obj.data_dir, \"annotations/instances_{}.json\".format(x))\n",
    "    for x in splits\n",
    "]\n",
    "if not os.path.isdir(args[\"EXPT_DIR\"]):\n",
    "    os.makedirs(args[\"EXPT_DIR\"], exist_ok=True)\n",
    "\n",
    "transforms = yolo.RandomAffine((0, 0), (0.1, 0.1), (0.9, 1.1), (0, 0, 0, 0))\n",
    "dataset_train = yolo.datasets(\n",
    "    yolo_obj.dataset, file_roots[0], ann_files[0], train=True\n",
    ")\n",
    "dataset_test = yolo.datasets(\n",
    "    yolo_obj.dataset, file_roots[1], ann_files[1], train=True\n",
    ")  # set train=True for eval\n",
    "if len(dataset_train) < yolo_obj.batch_size:\n",
    "    raise Exception(\n",
    "        f\"Very low number of samples. Available samples: {len(dataset_train)} | Batch size: {yolo_obj.batch_size}\"\n",
    "    )\n",
    "\n",
    "sampler_train = torch.utils.data.RandomSampler(dataset_train)\n",
    "sampler_test = torch.utils.data.SequentialSampler(dataset_test)\n",
    "\n",
    "batch_sampler_train = yolo.GroupedBatchSampler(\n",
    "    sampler_train, dataset_train.aspect_ratios, yolo_obj.batch_size, drop_last=True\n",
    ")\n",
    "batch_sampler_test = yolo.GroupedBatchSampler(\n",
    "    sampler_test, dataset_test.aspect_ratios, yolo_obj.batch_size\n",
    ")\n",
    "\n",
    "num_workers = min(\n",
    "    os.cpu_count() // 2, 8, yolo_obj.batch_size if yolo_obj.batch_size > 1 else 0\n",
    ")\n",
    "device = torch.device(\n",
    "    \"cuda\" if torch.cuda.is_available() and yolo_obj.use_cuda else \"cpu\"\n",
    ")\n",
    "cuda = device.type == \"cuda\"\n",
    "data_loader_train = torch.utils.data.DataLoader(\n",
    "    dataset_train,\n",
    "    batch_sampler=batch_sampler_train,\n",
    "    num_workers=num_workers,\n",
    "    collate_fn=yolo.collate_wrapper,\n",
    "    pin_memory=cuda,\n",
    ")\n",
    "\n",
    "data_loader_test = torch.utils.data.DataLoader(\n",
    "    dataset_test,\n",
    "    batch_sampler=batch_sampler_test,\n",
    "    num_workers=num_workers,\n",
    "    collate_fn=yolo.collate_wrapper,\n",
    "    pin_memory=cuda,\n",
    ")\n",
    "\n",
    "d_train = yolo.DataPrefetcher(data_loader_train) if cuda else data_loader_train\n",
    "d_test = yolo.DataPrefetcher(data_loader_test) if cuda else data_loader_test\n",
    "\n",
    "num_classes = len(dataset_train.classes)\n",
    "warmup_iters = max(1000, 3 * len(dataset_train))\n",
    "save_path = os.path.join(args[\"EXPT_DIR\"], \"ckpt\")\n",
    "yolo_obj.load_model(num_classes, warmup_iters, device)\n",
    "yolo_obj.load_weights(\"yolov5s_official_2cf45318.pth\", device, pretrained=True)\n",
    "yolo_obj.train(d_train, d_test, save_path, device)"
   ]
  },
  {
   "cell_type": "markdown",
   "metadata": {},
   "source": [
    "## View train loss and mAP"
   ]
  },
  {
   "cell_type": "code",
   "execution_count": null,
   "metadata": {},
   "outputs": [],
   "source": [
    "with open('train_monitoring.yaml', 'r') as f:\n",
    "    train_metrics = yaml.safe_load(f)\n",
    "loss_vals = train_metrics['loss']\n",
    "mAP_vals = train_metrics['mAP']\n",
    "epochs = range(1, len(loss_vals)+1)\n",
    "\n",
    "f, ax = plt.pyplot.subplots(nrows=1,ncols=2,figsize=(18,5))\n",
    "    \n",
    "ax[0].plot(epochs, loss_vals,  marker='o', label='Training Loss')\n",
    "ax[0].set_title('Training Loss')\n",
    "ax[0].set_xlabel('Epochs')\n",
    "ax[0].set_ylabel('Loss')\n",
    "ax[0].legend(loc='best')\n",
    "ax[0].grid(True)\n",
    "\n",
    "ax[1].plot(epochs, mAP_vals, marker='o', label='Training mAP')\n",
    "ax[1].set_title('Training mAP')\n",
    "ax[1].set_xlabel('Epochs')\n",
    "ax[1].set_ylabel('mAP')\n",
    "ax[1].legend(loc='best')\n",
    "ax[1].grid(True)\n",
    "\n",
    "f.savefig('train_metrics.png', format='png')"
   ]
  },
  {
   "cell_type": "markdown",
   "metadata": {},
   "source": [
    "## Evaluate mAP on the test set"
   ]
  },
  {
   "cell_type": "code",
   "execution_count": null,
   "metadata": {},
   "outputs": [],
   "source": [
    "yolo_obj.evaluate(data_loader_test, device)"
   ]
  },
  {
   "cell_type": "markdown",
   "metadata": {},
   "source": [
    "# Sample inference"
   ]
  },
  {
   "cell_type": "code",
   "execution_count": null,
   "metadata": {},
   "outputs": [],
   "source": [
    "results = yolo_obj.infer(data_loader_test, device)"
   ]
  },
  {
   "cell_type": "code",
   "execution_count": null,
   "metadata": {},
   "outputs": [],
   "source": [
    "num_preds = 5\n",
    "for i, data in enumerate(data_loader_test):\n",
    "    images = data.images\n",
    "    targets = data.targets\n",
    "    \n",
    "    with torch.no_grad():\n",
    "        results, losses = yolo_obj.model(images)\n",
    "        \n",
    "    # images' saving names\n",
    "    save = [os.path.join(args[\"EXPT_DIR\"], f\"{tgt['image_id'].item()}.jpg\") for tgt in targets]\n",
    "    yolo.show(images, results, dataset_test.classes, save)\n",
    "\n",
    "    if i > num_preds:\n",
    "        break"
   ]
  }
 ],
 "metadata": {
  "kernelspec": {
   "display_name": "Python 3.10.8 ('.venv': venv)",
   "language": "python",
   "name": "python3"
  },
  "language_info": {
   "codemirror_mode": {
    "name": "ipython",
    "version": 3
   },
   "file_extension": ".py",
   "mimetype": "text/x-python",
   "name": "python",
   "nbconvert_exporter": "python",
   "pygments_lexer": "ipython3",
   "version": "3.10.8"
  },
  "orig_nbformat": 4,
  "vscode": {
   "interpreter": {
    "hash": "6e301888e501b73fffde36270a2af461f430310e2e17bd69ff1a428859722c3e"
   }
  }
 },
 "nbformat": 4,
 "nbformat_minor": 2
}
